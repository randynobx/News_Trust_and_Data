{
 "cells": [
  {
   "cell_type": "markdown",
   "id": "0778470d",
   "metadata": {
    "tags": []
   },
   "source": [
    "# News, Trust, and Data Access\n",
    "\n",
    "## Analysis\n",
    "\n",
    "Here we will examine the dataset to attempt to answer the following questions:\n",
    "\n",
    "1. Are there any statistically significant differences between demographic groups with regard to trusting online news reporting?\n",
    "2. What news outlets are most trusted? And by whom?"
   ]
  },
  {
   "cell_type": "markdown",
   "id": "47f125ba",
   "metadata": {
    "jp-MarkdownHeadingCollapsed": true,
    "tags": []
   },
   "source": [
    "### Setup\n",
    "\n",
    "The following cells import and organize the dataset into a pandas DataFrame."
   ]
  },
  {
   "cell_type": "code",
   "execution_count": 1,
   "id": "c0ad31b2",
   "metadata": {},
   "outputs": [
    {
     "name": "stdout",
     "output_type": "stream",
     "text": [
      "(1021, 8)\n"
     ]
    },
    {
     "data": {
      "text/html": [
       "<div>\n",
       "<style scoped>\n",
       "    .dataframe tbody tr th:only-of-type {\n",
       "        vertical-align: middle;\n",
       "    }\n",
       "\n",
       "    .dataframe tbody tr th {\n",
       "        vertical-align: top;\n",
       "    }\n",
       "\n",
       "    .dataframe thead th {\n",
       "        text-align: right;\n",
       "    }\n",
       "</style>\n",
       "<table border=\"1\" class=\"dataframe\">\n",
       "  <thead>\n",
       "    <tr style=\"text-align: right;\">\n",
       "      <th></th>\n",
       "      <th>RespondentID</th>\n",
       "      <th>Political_View</th>\n",
       "      <th>General_Trust</th>\n",
       "      <th>Pay_For_News</th>\n",
       "      <th>Data_Access</th>\n",
       "      <th>Age</th>\n",
       "      <th>Gender</th>\n",
       "      <th>Income</th>\n",
       "    </tr>\n",
       "  </thead>\n",
       "  <tbody>\n",
       "    <tr>\n",
       "      <th>0</th>\n",
       "      <td>6176264298</td>\n",
       "      <td>Moderate</td>\n",
       "      <td>Fair amount</td>\n",
       "      <td>No</td>\n",
       "      <td>NaN</td>\n",
       "      <td>30-44</td>\n",
       "      <td>Male</td>\n",
       "      <td>10,000-24,999</td>\n",
       "    </tr>\n",
       "    <tr>\n",
       "      <th>1</th>\n",
       "      <td>6176263960</td>\n",
       "      <td>Moderate</td>\n",
       "      <td>Fair amount</td>\n",
       "      <td>No</td>\n",
       "      <td>Increase Trust</td>\n",
       "      <td>18-29</td>\n",
       "      <td>Female</td>\n",
       "      <td>0-9,999</td>\n",
       "    </tr>\n",
       "    <tr>\n",
       "      <th>2</th>\n",
       "      <td>6176258621</td>\n",
       "      <td>Liberal</td>\n",
       "      <td>Fair amount</td>\n",
       "      <td>Yes</td>\n",
       "      <td>Increase Trust</td>\n",
       "      <td>30-44</td>\n",
       "      <td>Male</td>\n",
       "      <td>125,000-149,999</td>\n",
       "    </tr>\n",
       "    <tr>\n",
       "      <th>3</th>\n",
       "      <td>6176257082</td>\n",
       "      <td>Liberal</td>\n",
       "      <td>Fair amount</td>\n",
       "      <td>No</td>\n",
       "      <td>Increase Trust</td>\n",
       "      <td>18-29</td>\n",
       "      <td>Male</td>\n",
       "      <td>125,000-149,999</td>\n",
       "    </tr>\n",
       "    <tr>\n",
       "      <th>4</th>\n",
       "      <td>6176256111</td>\n",
       "      <td>Liberal</td>\n",
       "      <td>Fair amount</td>\n",
       "      <td>Yes</td>\n",
       "      <td>NaN</td>\n",
       "      <td>30-44</td>\n",
       "      <td>Male</td>\n",
       "      <td>10,000-24,999</td>\n",
       "    </tr>\n",
       "  </tbody>\n",
       "</table>\n",
       "</div>"
      ],
      "text/plain": [
       "   RespondentID Political_View General_Trust Pay_For_News     Data_Access  \\\n",
       "0    6176264298       Moderate   Fair amount           No             NaN   \n",
       "1    6176263960       Moderate   Fair amount           No  Increase Trust   \n",
       "2    6176258621        Liberal   Fair amount          Yes  Increase Trust   \n",
       "3    6176257082        Liberal   Fair amount           No  Increase Trust   \n",
       "4    6176256111        Liberal   Fair amount          Yes             NaN   \n",
       "\n",
       "     Age  Gender           Income  \n",
       "0  30-44    Male    10,000-24,999  \n",
       "1  18-29  Female          0-9,999  \n",
       "2  30-44    Male  125,000-149,999  \n",
       "3  18-29    Male  125,000-149,999  \n",
       "4  30-44    Male    10,000-24,999  "
      ]
     },
     "metadata": {},
     "output_type": "display_data"
    },
    {
     "name": "stdout",
     "output_type": "stream",
     "text": [
      "(11231, 10)\n"
     ]
    },
    {
     "data": {
      "text/html": [
       "<div>\n",
       "<style scoped>\n",
       "    .dataframe tbody tr th:only-of-type {\n",
       "        vertical-align: middle;\n",
       "    }\n",
       "\n",
       "    .dataframe tbody tr th {\n",
       "        vertical-align: top;\n",
       "    }\n",
       "\n",
       "    .dataframe thead th {\n",
       "        text-align: right;\n",
       "    }\n",
       "</style>\n",
       "<table border=\"1\" class=\"dataframe\">\n",
       "  <thead>\n",
       "    <tr style=\"text-align: right;\">\n",
       "      <th></th>\n",
       "      <th>RespondentID</th>\n",
       "      <th>Political_View</th>\n",
       "      <th>General_Trust</th>\n",
       "      <th>Pay_For_News</th>\n",
       "      <th>Data_Access</th>\n",
       "      <th>Age</th>\n",
       "      <th>Gender</th>\n",
       "      <th>Income</th>\n",
       "      <th>NewsSource</th>\n",
       "      <th>SourceTrust</th>\n",
       "    </tr>\n",
       "  </thead>\n",
       "  <tbody>\n",
       "    <tr>\n",
       "      <th>0</th>\n",
       "      <td>6176264298</td>\n",
       "      <td>Moderate</td>\n",
       "      <td>Fair amount</td>\n",
       "      <td>No</td>\n",
       "      <td>NaN</td>\n",
       "      <td>30-44</td>\n",
       "      <td>Male</td>\n",
       "      <td>10,000-24,999</td>\n",
       "      <td>NYT</td>\n",
       "      <td>1</td>\n",
       "    </tr>\n",
       "    <tr>\n",
       "      <th>1</th>\n",
       "      <td>6176263960</td>\n",
       "      <td>Moderate</td>\n",
       "      <td>Fair amount</td>\n",
       "      <td>No</td>\n",
       "      <td>Increase Trust</td>\n",
       "      <td>18-29</td>\n",
       "      <td>Female</td>\n",
       "      <td>0-9,999</td>\n",
       "      <td>NYT</td>\n",
       "      <td>1</td>\n",
       "    </tr>\n",
       "    <tr>\n",
       "      <th>2</th>\n",
       "      <td>6176258621</td>\n",
       "      <td>Liberal</td>\n",
       "      <td>Fair amount</td>\n",
       "      <td>Yes</td>\n",
       "      <td>Increase Trust</td>\n",
       "      <td>30-44</td>\n",
       "      <td>Male</td>\n",
       "      <td>125,000-149,999</td>\n",
       "      <td>NYT</td>\n",
       "      <td>1</td>\n",
       "    </tr>\n",
       "    <tr>\n",
       "      <th>3</th>\n",
       "      <td>6176257082</td>\n",
       "      <td>Liberal</td>\n",
       "      <td>Fair amount</td>\n",
       "      <td>No</td>\n",
       "      <td>Increase Trust</td>\n",
       "      <td>18-29</td>\n",
       "      <td>Male</td>\n",
       "      <td>125,000-149,999</td>\n",
       "      <td>NYT</td>\n",
       "      <td>0</td>\n",
       "    </tr>\n",
       "    <tr>\n",
       "      <th>4</th>\n",
       "      <td>6176256111</td>\n",
       "      <td>Liberal</td>\n",
       "      <td>Fair amount</td>\n",
       "      <td>Yes</td>\n",
       "      <td>NaN</td>\n",
       "      <td>30-44</td>\n",
       "      <td>Male</td>\n",
       "      <td>10,000-24,999</td>\n",
       "      <td>NYT</td>\n",
       "      <td>1</td>\n",
       "    </tr>\n",
       "  </tbody>\n",
       "</table>\n",
       "</div>"
      ],
      "text/plain": [
       "   RespondentID Political_View General_Trust Pay_For_News     Data_Access  \\\n",
       "0    6176264298       Moderate   Fair amount           No             NaN   \n",
       "1    6176263960       Moderate   Fair amount           No  Increase Trust   \n",
       "2    6176258621        Liberal   Fair amount          Yes  Increase Trust   \n",
       "3    6176257082        Liberal   Fair amount           No  Increase Trust   \n",
       "4    6176256111        Liberal   Fair amount          Yes             NaN   \n",
       "\n",
       "     Age  Gender           Income NewsSource  SourceTrust  \n",
       "0  30-44    Male    10,000-24,999        NYT            1  \n",
       "1  18-29  Female          0-9,999        NYT            1  \n",
       "2  30-44    Male  125,000-149,999        NYT            1  \n",
       "3  18-29    Male  125,000-149,999        NYT            0  \n",
       "4  30-44    Male    10,000-24,999        NYT            1  "
      ]
     },
     "metadata": {},
     "output_type": "display_data"
    }
   ],
   "source": [
    "# Setup\n",
    "import pandas as pd\n",
    "import seaborn as sns\n",
    "import matplotlib.pyplot as plt\n",
    "from scipy.stats import chi2_contingency\n",
    "from wrangle import set_categories\n",
    "\n",
    "# Set plt style\n",
    "plt.style.use('seaborn')\n",
    "\n",
    "# Import the cleaned dataset\n",
    "survey_tidy = pd.read_csv('data/news_trust_data__clean.csv')\n",
    "\n",
    "# Create a shorter DataFrame without the NewsSource and Source Trust columns (i.e. no duplicate RespondentID entries for different NewsSources)\n",
    "survey_short = survey_tidy[survey_tidy['NewsSource'] == 'NYT'].drop(columns=['NewsSource', 'SourceTrust'])\n",
    "\n",
    "# Set categorical values and their order in dataframes\n",
    "set_categories([survey_tidy, survey_short])\n",
    "\n",
    "# Check shape and head of datasets\n",
    "print(survey_short.shape)\n",
    "display(survey_short.head())\n",
    "\n",
    "print(survey_tidy.shape)\n",
    "display(survey_tidy.head())"
   ]
  },
  {
   "cell_type": "markdown",
   "id": "ddcc99ae",
   "metadata": {
    "tags": []
   },
   "source": [
    "## How does trust of the press differ between various demographics?\n",
    "\n",
    "First, we will look at the overall survey results of trust in online news reporting."
   ]
  },
  {
   "cell_type": "code",
   "execution_count": null,
   "id": "60b073f6",
   "metadata": {},
   "outputs": [],
   "source": [
    "# Plot the LoT across all survey respondants\n",
    "tot_trust = sns.countplot(x='General_Trust', data=survey_short)\n",
    "tot_trust.set(title='General Trust of News Sources (All Responses)', xlabel='Amount of Trust', ylabel='Respondents');\n",
    "tot_trust.bar_label(tot_trust.containers[0])\n",
    "tot_trust;"
   ]
  },
  {
   "cell_type": "markdown",
   "id": "819cf4e4",
   "metadata": {},
   "source": [
    "Now that we have a general baseline of the survey results, we will look for statistically significant correlations at the $\\alpha = 0.05$ significance level between General_Trust and various demographics by running Chi-Squared tests for each of the following groups:\n",
    "* Age\n",
    "* Gender\n",
    "* Income\n",
    "* Political viewpoint\n",
    "* Pays for news source"
   ]
  },
  {
   "cell_type": "code",
   "execution_count": null,
   "id": "24bb2692",
   "metadata": {},
   "outputs": [],
   "source": [
    "# Generate and print pvalues for each wanted feature\n",
    "for f in ['Age', 'Gender', 'Pay_For_News', 'Income', 'Political_View']:\n",
    "    chi, p_val, dof, exp = chi2_contingency(pd.crosstab(survey_short['General_Trust'], survey_short[f]))\n",
    "    print('Feature:', f)\n",
    "    print('Pvalue:', p_val, '\\n')"
   ]
  },
  {
   "cell_type": "markdown",
   "id": "36615821",
   "metadata": {},
   "source": [
    "Our tests have found that the features of gender, political leaning, and paying for a news source all have statistically significant relationships to general trust in the press. The features of Age and Income can be safely ignored for this specific line of inquiry.\n",
    "\n",
    "Lets start looking deeper by examining the relationship between reporting trust and gender."
   ]
  },
  {
   "cell_type": "markdown",
   "id": "f11d78df-d874-48a0-8c34-a29163d9f621",
   "metadata": {},
   "source": [
    "#### Gender and Trust"
   ]
  },
  {
   "cell_type": "code",
   "execution_count": null,
   "id": "9f41a6ae",
   "metadata": {},
   "outputs": [],
   "source": [
    "# How gender affects trust\n",
    "print('Gender Breakdown:')\n",
    "print(survey_short['Gender'].value_counts(normalize=True))\n",
    "\n",
    "gender_trust = sns.countplot(x='General_Trust', hue='Gender', data=survey_short);\n",
    "gender_trust.set(title='Gender and Trust in Online Reporting', xlabel='Level of Trust', ylabel='Respondents')\n",
    "gender_trust;"
   ]
  },
  {
   "cell_type": "markdown",
   "id": "6e4e62e5-61e1-414a-8c80-047ee2fda147",
   "metadata": {},
   "source": [
    "From the above bar graph, it appears that women are more trusting of online news reporting relative to men, who are more likely to have no trust at all."
   ]
  },
  {
   "cell_type": "markdown",
   "id": "97a252d5-c0c1-42a4-b28f-e3dfb494b810",
   "metadata": {},
   "source": [
    "#### Paying for News and Trust"
   ]
  },
  {
   "cell_type": "code",
   "execution_count": null,
   "id": "b78801be",
   "metadata": {},
   "outputs": [],
   "source": [
    "# How paying for a news source affects trust\n",
    "print(survey_short['Pay_For_News'].value_counts(normalize=True))\n",
    "\n",
    "display(pd.crosstab(survey_short['Pay_For_News'], survey_short['General_Trust'], normalize='columns'))\n",
    "\n",
    "pay_trust_heat = sns.countplot(x='General_Trust', hue='Pay_For_News', data=survey_short)\n",
    "pay_trust_heat.set(title='Paying for News and Trust in Online Reporting', xlabel='Amount of Trust', ylabel='Respondents')\n",
    "pay_trust_heat;"
   ]
  },
  {
   "cell_type": "markdown",
   "id": "776e3edf-7289-4fdd-8093-39094bc91fdb",
   "metadata": {},
   "source": [
    "Those who paid for access to online news, while only making up 20% of those surveyed, accounted for 37% of those who indicated \"Great Amount\" of trust in news reporting."
   ]
  },
  {
   "cell_type": "markdown",
   "id": "5344ece5-f8cf-4674-b557-06461838a7c2",
   "metadata": {},
   "source": [
    "#### Political View and Trust"
   ]
  },
  {
   "cell_type": "code",
   "execution_count": null,
   "id": "a480e635",
   "metadata": {
    "tags": []
   },
   "outputs": [],
   "source": [
    "# Breakdown each political leaning by LoT (shading denotes % of political faction with given LoT)\n",
    "print(survey_short['Political_View'].value_counts(normalize=True).sort_index())\n",
    "\n",
    "pol_trust_heat = sns.heatmap(pd.crosstab(survey_short['Political_View'], survey_short['General_Trust'], normalize='columns'), cmap='GnBu', annot=True)\n",
    "pol_trust_heat.set(title='Political Views and Trust in Online Reporting(by Trust)', xlabel='Amount of Trust', ylabel='Political View')\n",
    "plt.xticks(rotation=45)\n",
    "pol_trust_heat;"
   ]
  },
  {
   "cell_type": "code",
   "execution_count": null,
   "id": "e0764fbb-c318-4d77-9624-7ccb3f82cd3d",
   "metadata": {},
   "outputs": [],
   "source": [
    "pol_trust_heat = sns.heatmap(pd.crosstab(survey_short['Political_View'], survey_short['General_Trust'], normalize='index'), cmap='GnBu', annot=True)\n",
    "pol_trust_heat.set(title='Political Views and Trust in Online Reporting (by Views)', xlabel='Amount of Trust', ylabel='Political View')\n",
    "plt.xticks(rotation=45)\n",
    "pol_trust_heat;"
   ]
  },
  {
   "cell_type": "markdown",
   "id": "83ceac2e-57da-4e04-b4a9-9bd39fba5d2c",
   "metadata": {},
   "source": [
    "After breaking down the data by political views, we can see that there is a trend of increasing trust as we moves from the right to left of the political spectrum. Those who reported a 'Fair Amount' of trust were disproportionately Liberal or Very Liberal, and an even greater discrepancy among those with a 'Great Amount' of trust. Looking at the 'Not very much' and 'None at all' levels of trust, we see a very similiar pattern in the opposite direction (disproportionately Conservative or Very Conservative).\n",
    "\n",
    "Of all those surveyed that reported a 'Great Amount' of trust in news reporting, 54% self identified as being on the left side of the political spectrum (30% Liberal, 24% Very Liberal). Compared to 39% identifying as moderates and less than 8% as right of center. For context, only 32% of all respondents identified as being left leaning, 41% as moderate, and 26% as right leaning."
   ]
  },
  {
   "cell_type": "markdown",
   "id": "8b4332ab",
   "metadata": {},
   "source": [
    "## Individual News Sources\n",
    "\n",
    "For our second line of inquiry, we will be examining how those surveyed trust 11 specific online news outlets.\n",
    "\n",
    "Let us again start with a general overview of trust in each outlet."
   ]
  },
  {
   "cell_type": "code",
   "execution_count": null,
   "id": "21525468",
   "metadata": {},
   "outputs": [],
   "source": [
    "# Trust in individual news sources\n",
    "plt.figure(figsize=(10,5))\n",
    "plt.ylim((0, 1))\n",
    "plt.xticks(rotation=45)\n",
    "src_plot = sns.barplot(x=survey_tidy['NewsSource'], y=survey_tidy['SourceTrust'], ci=None)\n",
    "src_plot.set(title='Trust in Specific News Sources', xlabel='News Sources', ylabel='Trusted by % of Respondents')\n",
    "src_plot;"
   ]
  },
  {
   "cell_type": "code",
   "execution_count": null,
   "id": "6202dd38",
   "metadata": {},
   "outputs": [],
   "source": [
    "# Percentages sorted by most trusted\n",
    "pd.crosstab(survey_tidy['NewsSource'], survey_tidy['SourceTrust'], normalize='index')[1].sort_values(ascending=False)"
   ]
  },
  {
   "cell_type": "markdown",
   "id": "11363739-20eb-4fad-813d-d0fb865f7a82",
   "metadata": {},
   "source": [
    "We see that no outlet is trusted by a majority of those surveyed. In fact, the most trusted online news outlet according to our data is the New York Times, at 40%. Four of the top five most trusted outlets are long standing traditional news outlets that had been in print for decades prior to their online presense (NYT, WSJ, Washington Post, Time). The fifth being the oldest 24/7 cable news network (CNN) at \\#2.\n",
    "\n",
    "On the bottom end of the list are Breitbart and BuzzFeed News, each with less than 4% of respondents indicating trust in their reporting. This is nearly 13 percentage points less than the next least trusted source, the Huffington Post.\n"
   ]
  },
  {
   "cell_type": "code",
   "execution_count": null,
   "id": "3c7bb1a1",
   "metadata": {},
   "outputs": [],
   "source": [
    "# Generate and print pvalues for each wanted feature\n",
    "for f in ['Age', 'Gender', 'Pay_For_News', 'Income', 'Political_View', 'General_Trust']:\n",
    "    chi, p_val, dof, exp = chi2_contingency(pd.crosstab(survey_tidy[survey_tidy['SourceTrust'] == 1]['NewsSource'], survey_tidy[f]))\n",
    "    print('Feature:', f)\n",
    "    print('Pvalue:', p_val, '\\n')"
   ]
  },
  {
   "cell_type": "markdown",
   "id": "9f0cb318-3772-4d5a-8c17-6c4e2d42bd00",
   "metadata": {},
   "source": [
    "Age, gender, political view, paying for news, and general trust level have shown statistically significant associations at the $\\alpha = 0.05$ level."
   ]
  },
  {
   "cell_type": "markdown",
   "id": "d10b4734-8a66-4057-82d5-0fb7ffccce5e",
   "metadata": {
    "tags": []
   },
   "source": [
    "#### Age and New Sources"
   ]
  },
  {
   "cell_type": "code",
   "execution_count": null,
   "id": "a96781a2-2d0a-46d0-9687-436eb223b13d",
   "metadata": {
    "tags": []
   },
   "outputs": [],
   "source": [
    "age_src_cross = pd.crosstab(survey_tidy['Age'], survey_tidy[survey_tidy['SourceTrust'] == 1]['NewsSource'], normalize='columns')\n",
    "plt.title('Trust in News Organizations by Age')\n",
    "sns.heatmap(age_src_cross, cmap='GnBu', annot=True);"
   ]
  },
  {
   "cell_type": "code",
   "execution_count": null,
   "id": "3be0c225-cd90-48f1-b588-b117e10412d1",
   "metadata": {},
   "outputs": [],
   "source": [
    "# Show breakdown of ages across all respondents\n",
    "plt.title(\"Ages of Survey Respondents\")\n",
    "plt.xlabel(\"Age Group\")\n",
    "plt.ylabel(\"No. of Respondents\")\n",
    "survey_short['Age'].value_counts(normalize=True).plot(kind='bar');"
   ]
  },
  {
   "cell_type": "markdown",
   "id": "0ac63d1a-3210-49d7-928d-49a73a3d2b80",
   "metadata": {},
   "source": [
    "While the vast majority of online news outlets readerships follow our survey's age breakdown, we see that Brietbart (and to a lesser extent, Fox News) is heavily skewed towards the older age groups. Half of those who indicated a trust in Brietbart's reporting are 60+, and another 24% in the 45-59 age group. Fox News follows a similiar, but less dramatic, skew towards the older groups.\n",
    "\n",
    "In contrast, 43% of those who trust Buzzfeed News are in the youngest age group, and 72% being under the age of 45."
   ]
  },
  {
   "cell_type": "markdown",
   "id": "2af6f647-7730-4141-8ab7-498ebb7ccc35",
   "metadata": {
    "tags": []
   },
   "source": [
    "#### Gender and New Sources"
   ]
  },
  {
   "cell_type": "code",
   "execution_count": null,
   "id": "d5a75e35-ab6c-4add-b20a-18eb22d74e8a",
   "metadata": {
    "tags": []
   },
   "outputs": [],
   "source": [
    "gender_src_cross = pd.crosstab(survey_tidy['Gender'], survey_tidy[survey_tidy['SourceTrust'] == 1]['NewsSource'], normalize='columns')\n",
    "plt.title(\"Trust in News Organizations by Gender\")\n",
    "sns.heatmap(gender_src_cross, cmap='GnBu', annot=True);"
   ]
  },
  {
   "cell_type": "code",
   "execution_count": null,
   "id": "0a49349c-42c0-4798-8c74-e65df1ce3f4d",
   "metadata": {},
   "outputs": [],
   "source": [
    "print(survey_short['Gender'].value_counts(normalize=True))"
   ]
  },
  {
   "cell_type": "markdown",
   "id": "f919263e-80a4-4950-89cc-cf9d467e91d1",
   "metadata": {},
   "source": [
    "When broken down by gender, we will notice the same two outlets (Breitbart and Fox News) sticking out from the crowd.\n",
    "\n",
    "The 9 other outlets roughly follow the sample gender breakdown (56% women to 44% men), whereas those trusting Breitbart and Fox News are overwhelmingly male.\n",
    "\n",
    "In the case of Breitbart, nearly 4 men reported trust in their reporting for every 1 woman who also did so."
   ]
  },
  {
   "cell_type": "markdown",
   "id": "3c571b1a-66dc-4651-bcee-45ccc2ba0801",
   "metadata": {
    "tags": []
   },
   "source": [
    "#### Political Views and News Source"
   ]
  },
  {
   "cell_type": "code",
   "execution_count": null,
   "id": "99728447-2685-454c-a642-7a3fac695934",
   "metadata": {
    "tags": []
   },
   "outputs": [],
   "source": [
    "print(survey_short['Political_View'].value_counts(normalize=True).sort_index())\n",
    "\n",
    "pol_src_cross = pd.crosstab(survey_tidy['Political_View'], survey_tidy[survey_tidy['SourceTrust'] == 1]['NewsSource'], normalize='columns')\n",
    "pol_src_heat = sns.heatmap(pol_src_cross, cmap='GnBu', annot=True)\n",
    "pol_src_heat.set(title='Political Views and News Sources (by source)', xlabel='News Source', ylabel='Political View')\n",
    "pol_src_heat;"
   ]
  },
  {
   "cell_type": "code",
   "execution_count": null,
   "id": "dd5b73f6-b415-4965-9a92-9b4515da0e88",
   "metadata": {},
   "outputs": [],
   "source": [
    "pol_src_cross = pd.crosstab(survey_tidy['Political_View'], survey_tidy[survey_tidy['SourceTrust'] == 1]['NewsSource'], normalize='index')\n",
    "pol_src_heat = sns.heatmap(pol_src_cross, cmap='GnBu', annot=True)\n",
    "pol_src_heat.set(title='Political Views and News Sources (by view)', xlabel='News Source', ylabel='Political View')\n",
    "pol_src_heat;"
   ]
  },
  {
   "cell_type": "markdown",
   "id": "59f4211a-de88-45ba-b5dd-46bd3e761487",
   "metadata": {},
   "source": [
    "Breitbart and Fox News are again showing very different breakdowns than the sample breakdown of political views.\n",
    "\n",
    "Those who trust Breitbart are tending to be overwhelmingly older (45+), male, and right of center. Those who trust Fox News follow the same pattern, but to a lesser extent.\n",
    "\n",
    "The opposite is again true for Buzzfeed News, with over 90% of those reporting trust in their reporting identifying as moderate or left of center."
   ]
  },
  {
   "cell_type": "markdown",
   "id": "840ce0a7-ba82-481d-9cf9-ecbd4479e60d",
   "metadata": {},
   "source": [
    "#### General Amount of Trust and Individual News Sources"
   ]
  },
  {
   "cell_type": "code",
   "execution_count": null,
   "id": "16b4ce81",
   "metadata": {
    "tags": []
   },
   "outputs": [],
   "source": [
    "print(survey_short['General_Trust'].value_counts(normalize=True).sort_index())\n",
    "\n",
    "gen_src_cross = pd.crosstab(survey_tidy['General_Trust'], survey_tidy[survey_tidy['SourceTrust'] == 1]['NewsSource'], normalize='columns')\n",
    "trust_src = sns.heatmap(gen_src_cross, cmap='GnBu', annot=True)\n",
    "trust_src.set(title='General Trust and Specific News Sources', xlabel='News Source', ylabel='Amount of Trust')\n",
    "trust_src;"
   ]
  },
  {
   "cell_type": "markdown",
   "id": "437b69d1-12dd-42ac-a67f-b7247d5cff77",
   "metadata": {},
   "source": [
    "From these breakdowns by four different demographics, we are seeing a pattern of Breitbart and Fox News breaking the mold of the sample demographics and that of the other online news outlets.\n",
    "\n",
    "Those who trust Breitbart and/or Fox News are disproportionately older (45+), male, right of center, and more distrustful of the news than we would expect from the sample."
   ]
  },
  {
   "cell_type": "markdown",
   "id": "b37cbdba-a035-41f4-8c2d-3f708438fe8e",
   "metadata": {},
   "source": [
    "### A closer look at the demographics\n",
    "\n",
    "Lets look closer at how some of these demographics intersect (or don't)."
   ]
  },
  {
   "cell_type": "code",
   "execution_count": null,
   "id": "a6c3901b-e35f-4470-9206-f580d6b7df1d",
   "metadata": {},
   "outputs": [],
   "source": [
    "sns.heatmap(pd.crosstab(survey_short['Age'], survey_short['Political_View'], normalize='columns'), annot=True);"
   ]
  },
  {
   "cell_type": "code",
   "execution_count": null,
   "id": "c34dae7d-81b3-4cc9-bcc9-87345165fbd5",
   "metadata": {},
   "outputs": [],
   "source": [
    "sns.heatmap(pd.crosstab(survey_short['Gender'], survey_short['Political_View'], normalize='columns'), annot=True);"
   ]
  },
  {
   "cell_type": "code",
   "execution_count": null,
   "id": "35123786-3baf-45a2-802f-e5999e00079a",
   "metadata": {},
   "outputs": [],
   "source": [
    "sns.heatmap(pd.crosstab(survey_short['Age'], survey_short['Gender'], normalize='columns'), annot=True);"
   ]
  },
  {
   "cell_type": "markdown",
   "id": "e6c4f8d3-76a7-4b78-a2a0-7697cbed4997",
   "metadata": {},
   "source": [
    "From the heatmaps above, we see an intersection of our demographics disproportionately represented among those trusting Breitbart and Fox News. Among the people surveyed, those who are are Conservative or Very Conservative tend to be older men.\n",
    "\n",
    "This particular group is the most likely to trust the online reporting of Breitbart and/or Fox News."
   ]
  }
 ],
 "metadata": {
  "kernelspec": {
   "display_name": "Python 3.9.7 ('base')",
   "language": "python",
   "name": "python3"
  },
  "language_info": {
   "codemirror_mode": {
    "name": "ipython",
    "version": 3
   },
   "file_extension": ".py",
   "mimetype": "text/x-python",
   "name": "python",
   "nbconvert_exporter": "python",
   "pygments_lexer": "ipython3",
   "version": "3.9.7"
  },
  "vscode": {
   "interpreter": {
    "hash": "01f04661800b9fb789a30a40f7819da069685363b0d4434351fa21b406426d38"
   }
  }
 },
 "nbformat": 4,
 "nbformat_minor": 5
}
