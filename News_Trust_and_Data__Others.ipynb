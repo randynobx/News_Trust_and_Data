{
 "cells": [
  {
   "cell_type": "markdown",
   "id": "0d383ffb-f7d3-4932-93d2-a39be982123d",
   "metadata": {},
   "source": [
    "# A quick look at the write in news outlets\n",
    "\n",
    "In this notebook, we will take a quick look at the write in section of the survey for any other online news outlets that might not have been included in the survey."
   ]
  },
  {
   "cell_type": "code",
   "execution_count": 2,
   "id": "c9ffa434-7522-45c2-8a14-a8cfa2835ec6",
   "metadata": {},
   "outputs": [],
   "source": [
    "import pandas as pd"
   ]
  },
  {
   "cell_type": "code",
   "execution_count": 100,
   "id": "bb2c6df5-df99-407c-ae67-700ebc6f96fe",
   "metadata": {},
   "outputs": [],
   "source": [
    "# Load and wrangle data\n",
    "def wrangle(filepath):\n",
    "    df = pd.read_csv(filepath, index_col=0)['A21']\n",
    "    df = df.apply(lambda s: s.lower())\n",
    "    df = df[~df.isin(['0', 'none'])]\n",
    "    w = []\n",
    "    for s in df.tolist():\n",
    "        w += s.split()\n",
    "    return pd.Series([s.strip(\",.'\\\"()\") for s in w])"
   ]
  },
  {
   "cell_type": "code",
   "execution_count": 101,
   "id": "8ef952a8",
   "metadata": {},
   "outputs": [
    {
     "data": {
      "text/plain": [
       "the         50\n",
       "npr         47\n",
       "news        43\n",
       "bbc         36\n",
       "none        28\n",
       "            ..\n",
       "accuracy     1\n",
       "gateway      1\n",
       "pundit       1\n",
       "hotair       1\n",
       "newscast     1\n",
       "Length: 360, dtype: int64"
      ]
     },
     "execution_count": 101,
     "metadata": {},
     "output_type": "execute_result"
    }
   ],
   "source": [
    "others = wrangle('dataset/all_responses_coded.csv')\n",
    "others.value_counts()"
   ]
  },
  {
   "cell_type": "code",
   "execution_count": 105,
   "id": "dd51e956",
   "metadata": {},
   "outputs": [
    {
     "data": {
      "text/plain": [
       "npr      47\n",
       "bbc      36\n",
       "msnbc    22\n",
       "dtype: int64"
      ]
     },
     "execution_count": 105,
     "metadata": {},
     "output_type": "execute_result"
    }
   ],
   "source": [
    "# Filter out unwanted words\n",
    "mask = ~others.isin(['none', 'of', 'the', 'and', 'i', 'all', 'to', 'them', 'trust', 'news'])\n",
    "others = others[mask]\n",
    "\n",
    "# Display write-ins with 20+ entries\n",
    "others.value_counts()[others.value_counts() >= 20]"
   ]
  },
  {
   "cell_type": "markdown",
   "id": "93ae6e2d-9108-42d9-9bbc-af2d5315535b",
   "metadata": {},
   "source": [
    "#### Conclusion\n",
    "\n",
    "We find 3 additional online news outlets that were written-in by at least 20 people:\n",
    "\n",
    "- NPR\n",
    "- BBC\n",
    "- MSNBC\n",
    "\n",
    "NPR and the BBC had more respondents indicating a trust in their reporting than the least trusted amoung the 11 outlets included in the survey."
   ]
  },
  {
   "cell_type": "code",
   "execution_count": null,
   "id": "fdc91cde-fd9e-44c0-98ef-5e1501ca4e34",
   "metadata": {},
   "outputs": [],
   "source": []
  }
 ],
 "metadata": {
  "interpreter": {
   "hash": "01f04661800b9fb789a30a40f7819da069685363b0d4434351fa21b406426d38"
  },
  "kernelspec": {
   "display_name": "Python 3 (ipykernel)",
   "language": "python",
   "name": "python3"
  },
  "language_info": {
   "codemirror_mode": {
    "name": "ipython",
    "version": 3
   },
   "file_extension": ".py",
   "mimetype": "text/x-python",
   "name": "python",
   "nbconvert_exporter": "python",
   "pygments_lexer": "ipython3",
   "version": "3.9.7"
  }
 },
 "nbformat": 4,
 "nbformat_minor": 5
}
