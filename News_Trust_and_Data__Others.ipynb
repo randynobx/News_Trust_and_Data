{
 "cells": [
  {
   "cell_type": "markdown",
   "id": "0d383ffb-f7d3-4932-93d2-a39be982123d",
   "metadata": {},
   "source": [
    "# A quick look at the write in news outlets\n",
    "\n",
    "In this notebook, we will take a quick look at the write in section of the survey for any other online news outlets that might not have been included in the survey."
   ]
  },
  {
   "cell_type": "code",
   "execution_count": 3,
   "id": "c9ffa434-7522-45c2-8a14-a8cfa2835ec6",
   "metadata": {},
   "outputs": [],
   "source": [
    "import pandas as pd"
   ]
  },
  {
   "cell_type": "code",
   "execution_count": 4,
   "id": "8ef7207e-86ff-4f8f-b0f4-769db24a65e5",
   "metadata": {},
   "outputs": [
    {
     "data": {
      "text/plain": [
       "0                                                                                                                                                                                                                                                                                   701\n",
       "None                                                                                                                                                                                                                                                                                 31\n",
       "NPR                                                                                                                                                                                                                                                                                  22\n",
       "none                                                                                                                                                                                                                                                                                 19\n",
       "MSNBC                                                                                                                                                                                                                                                                                16\n",
       "                                                                                                                                                                                                                                                                                   ... \n",
       "Democracy Now, The Young Turks, Al Jazeera, BBC, CBC, Reuters. I trust several of the options listed on most matters, however, many are quick to beat the war drum without enacting the same level of scrutiny they devote to other issues. This makes me question their agenda.      1\n",
       "One America News Network OANN.com                                                                                                                                                                                                                                                     1\n",
       "NPR, Al-jazeera, vice                                                                                                                                                                                                                                                                 1\n",
       "NPR, PBS,                                                                                                                                                                                                                                                                             1\n",
       "Portland (Maine) Press Herald, local TV newscast                                                                                                                                                                                                                                      1\n",
       "Name: A21, Length: 206, dtype: int64"
      ]
     },
     "execution_count": 4,
     "metadata": {},
     "output_type": "execute_result"
    }
   ],
   "source": [
    "others = pd.read_csv('dataset/all_responses_coded.csv', index_col=0)['A21']\n",
    "others.value_counts()"
   ]
  },
  {
   "cell_type": "code",
   "execution_count": 7,
   "id": "bb2c6df5-df99-407c-ae67-700ebc6f96fe",
   "metadata": {},
   "outputs": [],
   "source": [
    "# Convert all words to lowercase and strip some punctuation out, and make the object a list for search purposes\n",
    "others = [e.lower().strip(\"'\\\".\") for e in others]"
   ]
  },
  {
   "cell_type": "code",
   "execution_count": 34,
   "id": "25b66f37-1b28-4eb1-8409-5ea0a176b320",
   "metadata": {},
   "outputs": [
    {
     "name": "stdout",
     "output_type": "stream",
     "text": [
      "{'npr': 47, 'msnbc': 22, 'pbs': 13, 'vice': 3, 'oann': 1, 'bbc': 36, 'al jazeera': 3, 'al-jazeera': 1, 'cbc': 2, 'reuters': 6, 'local': 9, 'guardian': 11, 'cbs': 6, 'nbc': 29, 'blaze': 2, 'slate': 3, 'one america news': 3, 'economist': 8, 'young turks': 2, 'newsmax': 1}\n"
     ]
    }
   ],
   "source": [
    "sources = ['npr', 'msnbc', 'pbs', 'vice', 'oann', 'bbc', 'al jazeera', 'al-jazeera', 'cbc', 'reuters', 'local', 'guardian', 'cbs', 'nbc', 'blaze', 'slate', 'one america news', 'economist', 'young turks', 'newsmax']\n",
    "count = dict.fromkeys(sources, 0)\n",
    "#count = {'0':0, 'none':0, 'npr':0, 'msnbc':0, 'pbs':0, 'vice':0, 'oann':0, 'bbc':0}\n",
    "for e in others:\n",
    "    for s in sources:\n",
    "        if s in e:\n",
    "            count[s] += 1\n",
    "\n",
    "print(count)"
   ]
  },
  {
   "cell_type": "code",
   "execution_count": 38,
   "id": "b5e90517-b1be-4728-9d1c-12678c91d15d",
   "metadata": {},
   "outputs": [
    {
     "name": "stdout",
     "output_type": "stream",
     "text": [
      "npr 47\n",
      "msnbc 22\n",
      "bbc 36\n",
      "nbc 29\n"
     ]
    }
   ],
   "source": [
    "# Filter results for any that are repeatedly mentioned\n",
    "for i in count:\n",
    "    if count[i] >= 20:\n",
    "        print(i, count[i])"
   ]
  },
  {
   "cell_type": "markdown",
   "id": "93ae6e2d-9108-42d9-9bbc-af2d5315535b",
   "metadata": {},
   "source": [
    "#### Conclusion\n",
    "\n",
    "We find 4 additional online news outlets that were written-in by at least 20 people:\n",
    "\n",
    "- NPR\n",
    "- BBC\n",
    "- NBC\n",
    "- MSNBC\n",
    "\n",
    "NPR had more respondents indicating a trust in their reporting than the least trusted amoung the 11 outlets included in the survey.\n",
    "\n",
    "The BBC had roughly the same number of respondents indicating trust as the least trusted included outlet."
   ]
  },
  {
   "cell_type": "code",
   "execution_count": null,
   "id": "fdc91cde-fd9e-44c0-98ef-5e1501ca4e34",
   "metadata": {},
   "outputs": [],
   "source": []
  }
 ],
 "metadata": {
  "kernelspec": {
   "display_name": "Python 3 (ipykernel)",
   "language": "python",
   "name": "python3"
  },
  "language_info": {
   "codemirror_mode": {
    "name": "ipython",
    "version": 3
   },
   "file_extension": ".py",
   "mimetype": "text/x-python",
   "name": "python",
   "nbconvert_exporter": "python",
   "pygments_lexer": "ipython3",
   "version": "3.9.7"
  }
 },
 "nbformat": 4,
 "nbformat_minor": 5
}
